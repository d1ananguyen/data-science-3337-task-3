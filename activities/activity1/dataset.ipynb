{
 "cells": [
  {
   "cell_type": "markdown",
   "id": "c00db32d",
   "metadata": {},
   "source": [
    "Import Dependencies"
   ]
  },
  {
   "cell_type": "code",
   "execution_count": 5,
   "id": "2df2c5bc",
   "metadata": {},
   "outputs": [],
   "source": [
    "import pandas as pd\n",
    "import numpy as np\n",
    "import matplotlib.pyplot as plt"
   ]
  },
  {
   "cell_type": "markdown",
   "id": "fe59ed53",
   "metadata": {},
   "source": [
    "# 1. Load Dataset"
   ]
  },
  {
   "cell_type": "code",
   "execution_count": 9,
   "id": "f4fd6ed5",
   "metadata": {},
   "outputs": [
    {
     "name": "stdout",
     "output_type": "stream",
     "text": [
      "Original dataset shape: (60205, 17)\n"
     ]
    },
    {
     "data": {
      "text/html": [
       "<div>\n",
       "<style scoped>\n",
       "    .dataframe tbody tr th:only-of-type {\n",
       "        vertical-align: middle;\n",
       "    }\n",
       "\n",
       "    .dataframe tbody tr th {\n",
       "        vertical-align: top;\n",
       "    }\n",
       "\n",
       "    .dataframe thead th {\n",
       "        text-align: right;\n",
       "    }\n",
       "</style>\n",
       "<table border=\"1\" class=\"dataframe\">\n",
       "  <thead>\n",
       "    <tr style=\"text-align: right;\">\n",
       "      <th></th>\n",
       "      <th>flare_id</th>\n",
       "      <th>date</th>\n",
       "      <th>start_time</th>\n",
       "      <th>peak_time</th>\n",
       "      <th>end_time</th>\n",
       "      <th>duration</th>\n",
       "      <th>peak_counts_per_sec</th>\n",
       "      <th>total_counts</th>\n",
       "      <th>energy_band</th>\n",
       "      <th>x_pos</th>\n",
       "      <th>y_pos</th>\n",
       "      <th>radial</th>\n",
       "      <th>AR</th>\n",
       "      <th>flags</th>\n",
       "      <th>SESC_sunspot_number</th>\n",
       "      <th>sunspot_area</th>\n",
       "      <th>class_str</th>\n",
       "    </tr>\n",
       "  </thead>\n",
       "  <tbody>\n",
       "    <tr>\n",
       "      <th>0</th>\n",
       "      <td>8010115</td>\n",
       "      <td>1-Jan-08</td>\n",
       "      <td>0:05:08</td>\n",
       "      <td>0:06:02</td>\n",
       "      <td>0:06:36</td>\n",
       "      <td>88</td>\n",
       "      <td>32</td>\n",
       "      <td>13906</td>\n",
       "      <td>6-12</td>\n",
       "      <td>-979</td>\n",
       "      <td>-127</td>\n",
       "      <td>987</td>\n",
       "      <td>980</td>\n",
       "      <td>A0 EE P1 Q1</td>\n",
       "      <td>NaN</td>\n",
       "      <td>NaN</td>\n",
       "      <td>NF</td>\n",
       "    </tr>\n",
       "    <tr>\n",
       "      <th>1</th>\n",
       "      <td>8010116</td>\n",
       "      <td>1-Jan-08</td>\n",
       "      <td>0:43:12</td>\n",
       "      <td>0:45:02</td>\n",
       "      <td>0:56:44</td>\n",
       "      <td>812</td>\n",
       "      <td>100</td>\n",
       "      <td>125653</td>\n",
       "      <td>6-12</td>\n",
       "      <td>-977</td>\n",
       "      <td>-121</td>\n",
       "      <td>985</td>\n",
       "      <td>980</td>\n",
       "      <td>A0 ES P1 Q1</td>\n",
       "      <td>NaN</td>\n",
       "      <td>NaN</td>\n",
       "      <td>NF</td>\n",
       "    </tr>\n",
       "    <tr>\n",
       "      <th>2</th>\n",
       "      <td>8010118</td>\n",
       "      <td>1-Jan-08</td>\n",
       "      <td>1:38:00</td>\n",
       "      <td>1:40:10</td>\n",
       "      <td>1:42:28</td>\n",
       "      <td>268</td>\n",
       "      <td>32</td>\n",
       "      <td>42232</td>\n",
       "      <td>6-12</td>\n",
       "      <td>-977</td>\n",
       "      <td>-134</td>\n",
       "      <td>986</td>\n",
       "      <td>980</td>\n",
       "      <td>A0 EE P1 Q1</td>\n",
       "      <td>NaN</td>\n",
       "      <td>NaN</td>\n",
       "      <td>NF</td>\n",
       "    </tr>\n",
       "    <tr>\n",
       "      <th>3</th>\n",
       "      <td>8010135</td>\n",
       "      <td>1-Jan-08</td>\n",
       "      <td>2:19:04</td>\n",
       "      <td>2:19:10</td>\n",
       "      <td>2:22:44</td>\n",
       "      <td>220</td>\n",
       "      <td>63</td>\n",
       "      <td>48085</td>\n",
       "      <td>6-12</td>\n",
       "      <td>-997</td>\n",
       "      <td>-148</td>\n",
       "      <td>1008</td>\n",
       "      <td>980</td>\n",
       "      <td>A0 ES P1 Q1</td>\n",
       "      <td>NaN</td>\n",
       "      <td>NaN</td>\n",
       "      <td>NF</td>\n",
       "    </tr>\n",
       "    <tr>\n",
       "      <th>4</th>\n",
       "      <td>8010136</td>\n",
       "      <td>1-Jan-08</td>\n",
       "      <td>2:43:16</td>\n",
       "      <td>2:43:42</td>\n",
       "      <td>2:45:00</td>\n",
       "      <td>104</td>\n",
       "      <td>25</td>\n",
       "      <td>13275</td>\n",
       "      <td>6-12</td>\n",
       "      <td>-966</td>\n",
       "      <td>-164</td>\n",
       "      <td>980</td>\n",
       "      <td>980</td>\n",
       "      <td>A0 DR P1 Q1</td>\n",
       "      <td>NaN</td>\n",
       "      <td>NaN</td>\n",
       "      <td>NF</td>\n",
       "    </tr>\n",
       "  </tbody>\n",
       "</table>\n",
       "</div>"
      ],
      "text/plain": [
       "   flare_id      date start_time peak_time end_time  duration  \\\n",
       "0   8010115  1-Jan-08    0:05:08   0:06:02  0:06:36        88   \n",
       "1   8010116  1-Jan-08    0:43:12   0:45:02  0:56:44       812   \n",
       "2   8010118  1-Jan-08    1:38:00   1:40:10  1:42:28       268   \n",
       "3   8010135  1-Jan-08    2:19:04   2:19:10  2:22:44       220   \n",
       "4   8010136  1-Jan-08    2:43:16   2:43:42  2:45:00       104   \n",
       "\n",
       "   peak_counts_per_sec  total_counts energy_band  x_pos  y_pos  radial   AR  \\\n",
       "0                   32         13906        6-12   -979   -127     987  980   \n",
       "1                  100        125653        6-12   -977   -121     985  980   \n",
       "2                   32         42232        6-12   -977   -134     986  980   \n",
       "3                   63         48085        6-12   -997   -148    1008  980   \n",
       "4                   25         13275        6-12   -966   -164     980  980   \n",
       "\n",
       "         flags  SESC_sunspot_number  sunspot_area class_str  \n",
       "0  A0 EE P1 Q1                  NaN           NaN        NF  \n",
       "1  A0 ES P1 Q1                  NaN           NaN        NF  \n",
       "2  A0 EE P1 Q1                  NaN           NaN        NF  \n",
       "3  A0 ES P1 Q1                  NaN           NaN        NF  \n",
       "4  A0 DR P1 Q1                  NaN           NaN        NF  "
      ]
     },
     "execution_count": 9,
     "metadata": {},
     "output_type": "execute_result"
    }
   ],
   "source": [
    "# Original dataset (DO NOT modify)\n",
    "file_path = \"../../data/RHESSI_SolarFlares_SolarCycle24_Task3_2025.csv\"\n",
    "\n",
    "df = pd.read_csv(file_path, sep=';')\n",
    "print(f\"Original dataset shape: {df.shape}\")\n",
    "df.head()"
   ]
  },
  {
   "cell_type": "code",
   "execution_count": 11,
   "id": "caa477bd",
   "metadata": {},
   "outputs": [
    {
     "data": {
      "text/plain": [
       "['flare_id',\n",
       " 'date',\n",
       " 'start_time',\n",
       " 'peak_time',\n",
       " 'end_time',\n",
       " 'duration',\n",
       " 'peak_counts_per_sec',\n",
       " 'total_counts',\n",
       " 'energy_band',\n",
       " 'x_pos',\n",
       " 'y_pos',\n",
       " 'radial',\n",
       " 'AR',\n",
       " 'flags',\n",
       " 'SESC_sunspot_number',\n",
       " 'sunspot_area',\n",
       " 'class_str']"
      ]
     },
     "execution_count": 11,
     "metadata": {},
     "output_type": "execute_result"
    }
   ],
   "source": [
    "df.columns.tolist()"
   ]
  },
  {
   "cell_type": "markdown",
   "id": "d0b713ec",
   "metadata": {},
   "source": [
    "# 2. Data Cleaning - Remove invalid rows\n",
    "###    (a) Remove rows with zero position and energy range 3–6 keV"
   ]
  },
  {
   "cell_type": "code",
   "execution_count": 12,
   "id": "38e6901f",
   "metadata": {},
   "outputs": [
    {
     "name": "stdout",
     "output_type": "stream",
     "text": [
      "After cleaning: 57997 rows remain\n"
     ]
    }
   ],
   "source": [
    "if 'energy_band' not in df.columns:\n",
    "    print(\"Adjust column names if necessary.\")\n",
    "    print(\"Columns available:\", df.columns.tolist())\n",
    "\n",
    "# Use lowercase column names for x_pos and y_pos\n",
    "df_clean = df[(df['x_pos'] != 0) & (df['y_pos'] != 0) & (df['energy_band'] != '3-6')]\n",
    "print(f\"After cleaning: {df_clean.shape[0]} rows remain\")"
   ]
  },
  {
   "cell_type": "markdown",
   "id": "a4b0ff76",
   "metadata": {},
   "source": [
    "# 3. Median duration for each solar flare class"
   ]
  },
  {
   "cell_type": "code",
   "execution_count": 13,
   "id": "deedb6b8",
   "metadata": {},
   "outputs": [
    {
     "name": "stdout",
     "output_type": "stream",
     "text": [
      "\n",
      "(b) Median Duration (seconds) per Class:\n",
      " class_str\n",
      "C      860.0\n",
      "M     1196.0\n",
      "NF     404.0\n",
      "X     1228.0\n",
      "Name: duration, dtype: float64\n"
     ]
    }
   ],
   "source": [
    "median_duration = df_clean.groupby('class_str')['duration'].median().sort_index()\n",
    "print(\"\\n(b) Median Duration (seconds) per Class:\\n\", median_duration)"
   ]
  },
  {
   "cell_type": "markdown",
   "id": "cadd5042",
   "metadata": {},
   "source": [
    "# 4. Average total counts per flare class"
   ]
  },
  {
   "cell_type": "code",
   "execution_count": 14,
   "id": "c93f0f1d",
   "metadata": {},
   "outputs": [
    {
     "name": "stdout",
     "output_type": "stream",
     "text": [
      "\n",
      "(c) Average Total Counts per Class:\n",
      " class_str\n",
      "C     5.045063e+06\n",
      "M     6.242827e+07\n",
      "NF    1.420111e+06\n",
      "X     6.010525e+07\n",
      "Name: total_counts, dtype: float64\n"
     ]
    }
   ],
   "source": [
    "avg_counts_class = df_clean.groupby('class_str')['total_counts'].mean().sort_index()\n",
    "print(\"\\n(c) Average Total Counts per Class:\\n\", avg_counts_class)"
   ]
  },
  {
   "cell_type": "markdown",
   "id": "eda4d5d2",
   "metadata": {},
   "source": [
    "# 5. Average total counts per year + most active year(s)\n"
   ]
  },
  {
   "cell_type": "code",
   "execution_count": 20,
   "id": "e48f577a",
   "metadata": {},
   "outputs": [
    {
     "name": "stdout",
     "output_type": "stream",
     "text": [
      "\n",
      "(d) Average Total Counts per Year:\n",
      " year\n",
      "2008    1.073087e+06\n",
      "2009    2.265871e+05\n",
      "2010    5.738175e+05\n",
      "2011    2.336275e+06\n",
      "2012    1.824381e+06\n",
      "2013    1.757042e+06\n",
      "2014    3.076061e+06\n",
      "2015    1.971423e+06\n",
      "2016    4.214034e+05\n",
      "2017    4.082639e+06\n",
      "2018    8.245296e+04\n",
      "Name: total_counts, dtype: float64\n",
      "\n",
      "Most Active Year: 2017\n"
     ]
    }
   ],
   "source": [
    "df_clean.loc[:, 'date'] = pd.to_datetime(df_clean['date'], format=\"%d-%b-%y\", errors='coerce')\n",
    "df_clean.loc[:, 'year'] = df_clean['date'].dt.year\n",
    "\n",
    "avg_counts_year = df_clean.groupby('year')['total_counts'].mean()\n",
    "most_active_year = avg_counts_year.idxmax()\n",
    "\n",
    "print(\"\\n(d) Average Total Counts per Year:\\n\", avg_counts_year)\n",
    "print(f\"\\nMost Active Year: {most_active_year}\")"
   ]
  },
  {
   "cell_type": "markdown",
   "id": "287a55a3",
   "metadata": {},
   "source": [
    "# 6. Most active month(s) during most active year\n"
   ]
  },
  {
   "cell_type": "code",
   "execution_count": 21,
   "id": "3044fa6a",
   "metadata": {},
   "outputs": [
    {
     "name": "stdout",
     "output_type": "stream",
     "text": [
      "\n",
      "(e) Average Total Counts per Month (in most active year):\n",
      " month\n",
      "1     9.634852e+05\n",
      "2     4.183329e+05\n",
      "3     4.105333e+05\n",
      "4     4.494809e+06\n",
      "5     3.122717e+06\n",
      "6     6.977757e+05\n",
      "7     2.884163e+06\n",
      "8     1.941198e+06\n",
      "9     1.141240e+07\n",
      "10    1.644805e+06\n",
      "11    2.050775e+06\n",
      "12    6.390165e+05\n",
      "Name: total_counts, dtype: float64\n",
      "\n",
      "Most Active Month in 2017: 9\n"
     ]
    },
    {
     "name": "stderr",
     "output_type": "stream",
     "text": [
      "C:\\Users\\diana\\AppData\\Local\\Temp\\ipykernel_29600\\744344964.py:2: SettingWithCopyWarning: \n",
      "A value is trying to be set on a copy of a slice from a DataFrame.\n",
      "Try using .loc[row_indexer,col_indexer] = value instead\n",
      "\n",
      "See the caveats in the documentation: https://pandas.pydata.org/pandas-docs/stable/user_guide/indexing.html#returning-a-view-versus-a-copy\n",
      "  active_year_df['month'] = active_year_df['date'].dt.month\n"
     ]
    },
    {
     "data": {
      "image/png": "[encoded data removed]",
      "text/plain": [
       "<Figure size 800x400 with 1 Axes>"
      ]
     },
     "metadata": {},
     "output_type": "display_data"
    }
   ],
   "source": [
    "active_year_df = df_clean[df_clean['year'] == most_active_year]\n",
    "active_year_df['month'] = active_year_df['date'].dt.month\n",
    "avg_counts_month = active_year_df.groupby('month')['total_counts'].mean()\n",
    "most_active_month = avg_counts_month.idxmax()\n",
    "print(\"\\n(e) Average Total Counts per Month (in most active year):\\n\", avg_counts_month)\n",
    "print(f\"\\nMost Active Month in {most_active_year}: {most_active_month}\")\n",
    "\n",
    "# Visual: Monthly activity in most active year\n",
    "plt.figure(figsize=(8,4))\n",
    "avg_counts_month.plot(kind='bar', color='skyblue', edgecolor='black')\n",
    "plt.title(f\"Average Monthly Activity in {most_active_year}\")\n",
    "plt.xlabel(\"Month\")\n",
    "plt.ylabel(\"Average Total Counts\")\n",
    "plt.tight_layout()\n",
    "plt.savefig(\"visuals/avg_counts_per_month.png\")\n",
    "plt.show()"
   ]
  },
  {
   "cell_type": "markdown",
   "id": "acec477d",
   "metadata": {},
   "source": [
    "# 7. Flags mostly present in each flare class\n"
   ]
  },
  {
   "cell_type": "code",
   "execution_count": 22,
   "id": "eb5f40d2",
   "metadata": {},
   "outputs": [
    {
     "name": "stdout",
     "output_type": "stream",
     "text": [
      "\n",
      "(f) Most Common Flag per Flare Class:\n",
      " class_str\n",
      "C           A0 DR ES P1 PE Q3\n",
      "M     a0 A1 DF DR ES P1 PE Q4\n",
      "NF                A0 P1 PE Q1\n",
      "X           A0 DF DR P1 PE Q3\n",
      "Name: flags, dtype: object\n"
     ]
    }
   ],
   "source": [
    "if 'flags' in df_clean.columns:\n",
    "    dominant_flags = df_clean.groupby('class_str')['flags'].agg(lambda x: x.value_counts().index[0])\n",
    "    print(\"\\n(f) Most Common Flag per Flare Class:\\n\", dominant_flags)\n",
    "else:\n",
    "    print(\"\\n(f) 'flags' column not found in dataset. Skipping this step.\")"
   ]
  },
  {
   "cell_type": "markdown",
   "id": "66613675",
   "metadata": {},
   "source": [
    "# 8. Feature Engineering (add useful columns)"
   ]
  },
  {
   "cell_type": "code",
   "execution_count": 24,
   "id": "c80e8b1d",
   "metadata": {},
   "outputs": [
    {
     "name": "stdout",
     "output_type": "stream",
     "text": [
      "\n",
      "(g) Added new columns: duration_min, flare_intensity, month\n",
      "Final dataset shape: (57997, 21)\n"
     ]
    }
   ],
   "source": [
    "# (g) Add duration in minutes and flare intensity proxy safely\n",
    "df_clean = df_clean.copy()  # ensures we're working on a full copy\n",
    "\n",
    "df_clean.loc[:, 'duration_min'] = df_clean['duration'] / 60\n",
    "df_clean.loc[:, 'flare_intensity'] = df_clean['total_counts'] / (df_clean['duration'] + 1)\n",
    "df_clean.loc[:, 'month'] = df_clean['date'].dt.month\n",
    "\n",
    "# Drop any unnecessary columns if present\n",
    "cols_to_drop = ['Unnamed: 0']\n",
    "df_clean = df_clean.drop(columns=[col for col in cols_to_drop if col in df_clean.columns])\n",
    "\n",
    "print(\"\\n(g) Added new columns: duration_min, flare_intensity, month\")\n",
    "print(\"Final dataset shape:\", df_clean.shape)"
   ]
  },
  {
   "cell_type": "markdown",
   "id": "e3189f38",
   "metadata": {},
   "source": [
    "# 9. Save Cleaned Dataset\n"
   ]
  },
  {
   "cell_type": "code",
   "execution_count": 25,
   "id": "4d1b6779",
   "metadata": {},
   "outputs": [
    {
     "name": "stdout",
     "output_type": "stream",
     "text": [
      "\n",
      "✅ Cleaned dataset saved to: ../../data/cleaned_solarflare_dataset.csv\n"
     ]
    }
   ],
   "source": [
    "output_path = \"../../data/cleaned_solarflare_dataset.csv\"\n",
    "df_clean.to_csv(output_path, index=False)\n",
    "print(f\"\\n✅ Cleaned dataset saved to: {output_path}\")"
   ]
  },
  {
   "cell_type": "markdown",
   "id": "05a6330f",
   "metadata": {},
   "source": [
    "# 10. Quick Summary"
   ]
  },
  {
   "cell_type": "code",
   "execution_count": 26,
   "id": "d120b65f",
   "metadata": {},
   "outputs": [
    {
     "name": "stdout",
     "output_type": "stream",
     "text": [
      "\n",
      "=== Activity 1 Summary ===\n",
      "Total Flares (after cleaning): 57997\n",
      "Most Active Year: 2017\n",
      "Most Active Month: 9\n",
      "Classes Analyzed: ['NF', 'C', 'M', 'X']\n"
     ]
    }
   ],
   "source": [
    "summary = {\n",
    "    \"Total Flares (after cleaning)\": len(df_clean),\n",
    "    \"Most Active Year\": int(most_active_year),\n",
    "    \"Most Active Month\": int(most_active_month),\n",
    "    \"Classes Analyzed\": list(df_clean['class_str'].unique())\n",
    "}\n",
    "print(\"\\n=== Activity 1 Summary ===\")\n",
    "for k, v in summary.items():\n",
    "    print(f\"{k}: {v}\")"
   ]
  },
  {
   "cell_type": "markdown",
   "id": "b4406ae1",
   "metadata": {},
   "source": [
    "# Check New Dataset"
   ]
  },
  {
   "cell_type": "code",
   "execution_count": 28,
   "id": "bc465493",
   "metadata": {},
   "outputs": [
    {
     "data": {
      "text/html": [
       "<div>\n",
       "<style scoped>\n",
       "    .dataframe tbody tr th:only-of-type {\n",
       "        vertical-align: middle;\n",
       "    }\n",
       "\n",
       "    .dataframe tbody tr th {\n",
       "        vertical-align: top;\n",
       "    }\n",
       "\n",
       "    .dataframe thead th {\n",
       "        text-align: right;\n",
       "    }\n",
       "</style>\n",
       "<table border=\"1\" class=\"dataframe\">\n",
       "  <thead>\n",
       "    <tr style=\"text-align: right;\">\n",
       "      <th></th>\n",
       "      <th>flare_id</th>\n",
       "      <th>date</th>\n",
       "      <th>start_time</th>\n",
       "      <th>peak_time</th>\n",
       "      <th>end_time</th>\n",
       "      <th>duration</th>\n",
       "      <th>peak_counts_per_sec</th>\n",
       "      <th>total_counts</th>\n",
       "      <th>energy_band</th>\n",
       "      <th>x_pos</th>\n",
       "      <th>...</th>\n",
       "      <th>radial</th>\n",
       "      <th>AR</th>\n",
       "      <th>flags</th>\n",
       "      <th>SESC_sunspot_number</th>\n",
       "      <th>sunspot_area</th>\n",
       "      <th>class_str</th>\n",
       "      <th>year</th>\n",
       "      <th>duration_min</th>\n",
       "      <th>flare_intensity</th>\n",
       "      <th>month</th>\n",
       "    </tr>\n",
       "  </thead>\n",
       "  <tbody>\n",
       "    <tr>\n",
       "      <th>0</th>\n",
       "      <td>8010115</td>\n",
       "      <td>2008-01-01</td>\n",
       "      <td>0:05:08</td>\n",
       "      <td>0:06:02</td>\n",
       "      <td>0:06:36</td>\n",
       "      <td>88</td>\n",
       "      <td>32</td>\n",
       "      <td>13906</td>\n",
       "      <td>6-12</td>\n",
       "      <td>-979</td>\n",
       "      <td>...</td>\n",
       "      <td>987</td>\n",
       "      <td>980</td>\n",
       "      <td>A0 EE P1 Q1</td>\n",
       "      <td>NaN</td>\n",
       "      <td>NaN</td>\n",
       "      <td>NF</td>\n",
       "      <td>2008</td>\n",
       "      <td>1.466667</td>\n",
       "      <td>156.247191</td>\n",
       "      <td>1</td>\n",
       "    </tr>\n",
       "    <tr>\n",
       "      <th>1</th>\n",
       "      <td>8010116</td>\n",
       "      <td>2008-01-01</td>\n",
       "      <td>0:43:12</td>\n",
       "      <td>0:45:02</td>\n",
       "      <td>0:56:44</td>\n",
       "      <td>812</td>\n",
       "      <td>100</td>\n",
       "      <td>125653</td>\n",
       "      <td>6-12</td>\n",
       "      <td>-977</td>\n",
       "      <td>...</td>\n",
       "      <td>985</td>\n",
       "      <td>980</td>\n",
       "      <td>A0 ES P1 Q1</td>\n",
       "      <td>NaN</td>\n",
       "      <td>NaN</td>\n",
       "      <td>NF</td>\n",
       "      <td>2008</td>\n",
       "      <td>13.533333</td>\n",
       "      <td>154.554736</td>\n",
       "      <td>1</td>\n",
       "    </tr>\n",
       "    <tr>\n",
       "      <th>2</th>\n",
       "      <td>8010118</td>\n",
       "      <td>2008-01-01</td>\n",
       "      <td>1:38:00</td>\n",
       "      <td>1:40:10</td>\n",
       "      <td>1:42:28</td>\n",
       "      <td>268</td>\n",
       "      <td>32</td>\n",
       "      <td>42232</td>\n",
       "      <td>6-12</td>\n",
       "      <td>-977</td>\n",
       "      <td>...</td>\n",
       "      <td>986</td>\n",
       "      <td>980</td>\n",
       "      <td>A0 EE P1 Q1</td>\n",
       "      <td>NaN</td>\n",
       "      <td>NaN</td>\n",
       "      <td>NF</td>\n",
       "      <td>2008</td>\n",
       "      <td>4.466667</td>\n",
       "      <td>156.996283</td>\n",
       "      <td>1</td>\n",
       "    </tr>\n",
       "    <tr>\n",
       "      <th>3</th>\n",
       "      <td>8010135</td>\n",
       "      <td>2008-01-01</td>\n",
       "      <td>2:19:04</td>\n",
       "      <td>2:19:10</td>\n",
       "      <td>2:22:44</td>\n",
       "      <td>220</td>\n",
       "      <td>63</td>\n",
       "      <td>48085</td>\n",
       "      <td>6-12</td>\n",
       "      <td>-997</td>\n",
       "      <td>...</td>\n",
       "      <td>1008</td>\n",
       "      <td>980</td>\n",
       "      <td>A0 ES P1 Q1</td>\n",
       "      <td>NaN</td>\n",
       "      <td>NaN</td>\n",
       "      <td>NF</td>\n",
       "      <td>2008</td>\n",
       "      <td>3.666667</td>\n",
       "      <td>217.579186</td>\n",
       "      <td>1</td>\n",
       "    </tr>\n",
       "    <tr>\n",
       "      <th>4</th>\n",
       "      <td>8010136</td>\n",
       "      <td>2008-01-01</td>\n",
       "      <td>2:43:16</td>\n",
       "      <td>2:43:42</td>\n",
       "      <td>2:45:00</td>\n",
       "      <td>104</td>\n",
       "      <td>25</td>\n",
       "      <td>13275</td>\n",
       "      <td>6-12</td>\n",
       "      <td>-966</td>\n",
       "      <td>...</td>\n",
       "      <td>980</td>\n",
       "      <td>980</td>\n",
       "      <td>A0 DR P1 Q1</td>\n",
       "      <td>NaN</td>\n",
       "      <td>NaN</td>\n",
       "      <td>NF</td>\n",
       "      <td>2008</td>\n",
       "      <td>1.733333</td>\n",
       "      <td>126.428571</td>\n",
       "      <td>1</td>\n",
       "    </tr>\n",
       "  </tbody>\n",
       "</table>\n",
       "<p>5 rows × 21 columns</p>\n",
       "</div>"
      ],
      "text/plain": [
       "   flare_id        date start_time peak_time end_time  duration  \\\n",
       "0   8010115  2008-01-01    0:05:08   0:06:02  0:06:36        88   \n",
       "1   8010116  2008-01-01    0:43:12   0:45:02  0:56:44       812   \n",
       "2   8010118  2008-01-01    1:38:00   1:40:10  1:42:28       268   \n",
       "3   8010135  2008-01-01    2:19:04   2:19:10  2:22:44       220   \n",
       "4   8010136  2008-01-01    2:43:16   2:43:42  2:45:00       104   \n",
       "\n",
       "   peak_counts_per_sec  total_counts energy_band  x_pos  ...  radial   AR  \\\n",
       "0                   32         13906        6-12   -979  ...     987  980   \n",
       "1                  100        125653        6-12   -977  ...     985  980   \n",
       "2                   32         42232        6-12   -977  ...     986  980   \n",
       "3                   63         48085        6-12   -997  ...    1008  980   \n",
       "4                   25         13275        6-12   -966  ...     980  980   \n",
       "\n",
       "         flags SESC_sunspot_number  sunspot_area  class_str  year  \\\n",
       "0  A0 EE P1 Q1                 NaN           NaN         NF  2008   \n",
       "1  A0 ES P1 Q1                 NaN           NaN         NF  2008   \n",
       "2  A0 EE P1 Q1                 NaN           NaN         NF  2008   \n",
       "3  A0 ES P1 Q1                 NaN           NaN         NF  2008   \n",
       "4  A0 DR P1 Q1                 NaN           NaN         NF  2008   \n",
       "\n",
       "   duration_min  flare_intensity  month  \n",
       "0      1.466667       156.247191      1  \n",
       "1     13.533333       154.554736      1  \n",
       "2      4.466667       156.996283      1  \n",
       "3      3.666667       217.579186      1  \n",
       "4      1.733333       126.428571      1  \n",
       "\n",
       "[5 rows x 21 columns]"
      ]
     },
     "execution_count": 28,
     "metadata": {},
     "output_type": "execute_result"
    }
   ],
   "source": [
    "df = pd.read_csv(\"../../data/cleaned_solarflare_dataset.csv\")\n",
    "df.head()\n",
    "# df.shape"
   ]
  }
 ],
 "metadata": {
  "kernelspec": {
   "display_name": ".venv",
   "language": "python",
   "name": "python3"
  },
  "language_info": {
   "codemirror_mode": {
    "name": "ipython",
    "version": 3
   },
   "file_extension": ".py",
   "mimetype": "text/x-python",
   "name": "python",
   "nbconvert_exporter": "python",
   "pygments_lexer": "ipython3",
   "version": "3.11.9"
  }
 },
 "nbformat": 4,
 "nbformat_minor": 5
}
